{
 "cells": [
  {
   "cell_type": "markdown",
   "metadata": {},
   "source": [
    "### Book refered: \"Game Theory\" by Giacomo Bonano"
   ]
  },
  {
   "cell_type": "code",
   "execution_count": 1,
   "metadata": {},
   "outputs": [],
   "source": [
    "import numpy as np\n",
    "import pandas as pd"
   ]
  },
  {
   "cell_type": "markdown",
   "metadata": {},
   "source": [
    "#### Prisoner's Dilemma game"
   ]
  },
  {
   "cell_type": "markdown",
   "metadata": {},
   "source": [
    "##### Python program that determines the Dominant strategies and equilibrium of the Prisoner's Dilemma Game"
   ]
  },
  {
   "cell_type": "code",
   "execution_count": 28,
   "metadata": {},
   "outputs": [
    {
     "name": "stdout",
     "output_type": "stream",
     "text": [
      "   0  1\n",
      "0  2  0\n",
      "1  3  1\n",
      " \n",
      "   0  1\n",
      "0  2  3\n",
      "1  0  1\n",
      "Player1's dominant strategy is to give extra effort\n",
      "Player2's dominant strategy is to give extra effort\n"
     ]
    },
    {
     "data": {
      "text/plain": [
       "('Extra', 'Extra')"
      ]
     },
     "execution_count": 28,
     "metadata": {},
     "output_type": "execute_result"
    }
   ],
   "source": [
    "## Payoffs for Player 1\n",
    "Doug=np.array(([2, 0], [3, 1]))\n",
    "print(pd.DataFrame(Doug))\n",
    "print(\" \")\n",
    "## Payoffs for player 2\n",
    "Ed=np.array(([2, 3], [0, 1]))\n",
    "print(pd.DataFrame(Ed))\n",
    "\n",
    "def PrisonersDilemma(Player1, Player2):\n",
    "    m1=max(Player1[:, 0])\n",
    "    m2=max(Player1[:, 1])\n",
    "    \n",
    "    m3=max(Player2[0, :])\n",
    "    m4=max(Player2[1, :])\n",
    "    \n",
    "    \n",
    "    ## Player1's dominant strategy\n",
    "    if m1==Player1[0, 0] and m2==Player1[0, 1]: print(\"Player1's dominant strategy is to give normal effort\")\n",
    "    elif m1==Player1[1, 0] and m2==Player1[1, 1]: print(\"Player1's dominant strategy is to give extra effort\")\n",
    "    else: print(\"Player1 has no dominant strategy\")\n",
    "        \n",
    "    ## Player2's dominant strategy\n",
    "    if m3==Player2[0, 0] and m4==Player2[1, 0]: print(\"Player2's dominant strategy is to give normal effort\")\n",
    "    elif m3==Player2[0, 1] and m4==Player2[1, 1]: print(\"Player2's dominant strategy is to give extra effort\")\n",
    "    else: print(\"Player2 has no dominant strategy\")\n",
    "        \n",
    "    ##To find the dominant strategy equilibrium of the game\n",
    "    if m1==Player1[0, 0] and m2==Player1[0, 1] and m3==Player2[0, 0] and m4==Player2[1, 0]: return (\"Normal\", \"Normal\")\n",
    "    elif m1==Player1[0, 0] and m2==Player1[0, 1] and m3==Player2[0, 1] and m4==Player2[1, 1]: return (\"Normal\", \"Extra\")\n",
    "    elif m1==Player1[1, 0] and m2==Player1[1, 1] and m3==Player2[0, 0] and m4==Player2[1, 0]: return (\"Extra\", \"Normal\")\n",
    "    elif m1==Player1[1, 0] and m2==Player1[1, 1] and m3==Player2[0, 1] and m4==Player2[1, 1]: return (\"Extra\", \"Extra\")\n",
    "    else: return \"No dominant strategy equilibrium \"\n",
    "    \n",
    "PrisonersDilemma(Doug, Ed)"
   ]
  },
  {
   "cell_type": "markdown",
   "metadata": {},
   "source": [
    "##### The Iterated Deletion of Strictly Dominated Strategies (IDSDS Algorithm)"
   ]
  },
  {
   "cell_type": "code",
   "execution_count": 15,
   "metadata": {},
   "outputs": [
    {
     "name": "stdout",
     "output_type": "stream",
     "text": [
      "[[8 0 3]\n",
      " [3 2 4]]\n",
      "[[6 9 8]\n",
      " [2 1 3]]\n",
      "[[0 3]\n",
      " [2 4]]\n",
      "[[9 8]\n",
      " [1 3]]\n",
      "[[2 4]]\n",
      "[[1 3]]\n",
      "[[4]]\n",
      "[[3]]\n",
      "[[4]]\n",
      "[[3]]\n"
     ]
    },
    {
     "data": {
      "text/plain": [
       "(array([[4]]), array([[3]]))"
      ]
     },
     "execution_count": 15,
     "metadata": {},
     "output_type": "execute_result"
    }
   ],
   "source": [
    "## Payoffs for player 1\n",
    "#P1=np.array(([6, 4, 4, 3], [5, 6, 0, 5], [5, 3, 6, 4], [2, 2, 3, 6]))\n",
    "#print(pd.DataFrame(P1))\n",
    "#print(\" \")\n",
    "\n",
    "## Payoffs for player 2\n",
    "#P2=np.array(([3, 4, 1, 0], [4, 3, 2, 1], [0, 2, 1, 0], [0, 3, 3, 1]))\n",
    "#print(pd.DataFrame(P2))\n",
    "\n",
    "#Ex. 2.11\n",
    "P1=np.array(([8, 0, 3], [3, 2, 4], [2, 1, 3]))\n",
    "P2=np.array(([6, 9, 8], [2, 1, 3], [8, 5, 1]))\n",
    "def IDSDS(P1, P2):\n",
    "    check1, check2=0, 0\n",
    "    while True:\n",
    "        for i in range(len(P1)):\n",
    "            for j in range(len(P1)):\n",
    "                if list(P1[i, :]<P1[j, :]).count(True)==len(P1[0]):\n",
    "                    P1=np.delete(P1, (i), axis=0)\n",
    "                    P2=np.delete(P2, (i), axis=0)\n",
    "                    check1=1\n",
    "                    break\n",
    "            if check1==1: break\n",
    "        \n",
    "        if check1==0:\n",
    "            for i in range(len(P2[0])):\n",
    "                for j in range(len(P2[0])):\n",
    "                    if list(P2[:, i]<P2[:, j]).count(True)==len(P2):\n",
    "                        P2=np.delete(P2, (i), axis=1)\n",
    "                        P1=np.delete(P1, (i), axis=1)\n",
    "                        check2=1\n",
    "                        break\n",
    "                if check2==1:break\n",
    "        \n",
    "        print(P1)\n",
    "        print(P2)\n",
    "        if check1==0 and check2==0: break\n",
    "        check1, check2=0, 0\n",
    "    \n",
    "    return (P1, P2)\n",
    "\n",
    "IDSDS(P1, P2)"
   ]
  },
  {
   "cell_type": "markdown",
   "metadata": {},
   "source": [
    "#### A perfect information game"
   ]
  },
  {
   "cell_type": "markdown",
   "metadata": {},
   "source": [
    "##### Game based on Figure 3.7 mentioned in the book: This program determines the Nash equilibria from the strategic form of the perfect information game"
   ]
  },
  {
   "cell_type": "code",
   "execution_count": 36,
   "metadata": {},
   "outputs": [
    {
     "name": "stdout",
     "output_type": "stream",
     "text": [
      "   0  1  2  3\n",
      "0  2  2  0  0\n",
      "1  2  2  0  0\n",
      "2  3  1  3  1\n",
      "3  3  1  3  1\n",
      " \n",
      "   0  1  2  3\n",
      "0  1  1  0  0\n",
      "1  1  1  0  0\n",
      "2  1  2  1  2\n",
      "3  1  0  1  0\n"
     ]
    },
    {
     "data": {
      "text/plain": [
       "[('bh', 'ce'), ('ag', 'cf'), ('ah', 'cf'), ('bh', 'de'), ('bg', 'df')]"
      ]
     },
     "execution_count": 36,
     "metadata": {},
     "output_type": "execute_result"
    }
   ],
   "source": [
    "## Payoffs for Player 1\n",
    "Player1=np.array(([2, 2, 0, 0], [2, 2, 0, 0], [3, 1, 3, 1], [3, 1, 3, 1]))\n",
    "print(pd.DataFrame(Player1))\n",
    "print(\" \")\n",
    "## Payoffs for player 2\n",
    "Player2=np.array(([1, 1, 0, 0], [1, 1, 0, 0], [1, 2, 1, 2], [1, 0, 1, 0]))\n",
    "print(pd.DataFrame(Player2))\n",
    "\n",
    "L1=[]\n",
    "L2=[]\n",
    "\n",
    "for i in range(4):\n",
    "    a=Player1[:, i]\n",
    "    M=max(a)\n",
    "    for j in range(4):\n",
    "        if a[j]==M: L1+=[[j, i], ]\n",
    "\n",
    "for i in range(4):\n",
    "    a=Player2[i, :]\n",
    "    M=max(a)\n",
    "    for j in range(4):\n",
    "        if a[j]==M: L2+=[[i, j], ]\n",
    "\n",
    "N=[i for i in L1 if i in L2]\n",
    "\n",
    "I1={0:'ag', 1:'ah', 2:'bg', 3:'bh'}\n",
    "I2={0:'ce', 1:'cf', 2:'de', 3:'df'}\n",
    "\n",
    "Nash=[(I1[i], I2[j]) for [i, j] in N]\n",
    "## The Nash equilibria\n",
    "Nash"
   ]
  },
  {
   "cell_type": "markdown",
   "metadata": {},
   "source": [
    "#### General Dynamic Games"
   ]
  },
  {
   "cell_type": "markdown",
   "metadata": {},
   "source": [
    "##### Exercise 4.10: Find the Nash equilibria and the subgame-perfect equilibria of the game shown in Figure 4.24"
   ]
  },
  {
   "cell_type": "code",
   "execution_count": 48,
   "metadata": {},
   "outputs": [
    {
     "name": "stdout",
     "output_type": "stream",
     "text": [
      "   0  1  2\n",
      "0  0  2  1\n",
      "1  1  1  2\n",
      "2  0  0  3\n",
      " \n",
      "   0  1  2\n",
      "0  0  0  1\n",
      "1  0  2  1\n",
      "2  1  1  2\n",
      "[('E', 'H')]\n",
      "   0  1\n",
      "0  2  1\n",
      "1  0  1\n",
      " \n",
      "   0  1\n",
      "0  1  0\n",
      "1  0  1\n",
      "[('L', 'P'), ('M', 'R')]\n"
     ]
    },
    {
     "data": {
      "text/plain": [
       "[['A', ('E', 'L'), ('H', 'P')], ['B', ('E', 'M'), ('H', 'R')]]"
      ]
     },
     "execution_count": 48,
     "metadata": {},
     "output_type": "execute_result"
    }
   ],
   "source": [
    "## First we consider the subgame that starts at decision node of player 2 after following choice A of Player 1\n",
    "\n",
    "#Payoffs for player 2 \n",
    "P2=np.array(([0, 2, 1], [1, 1, 2], [0, 0, 3]))\n",
    "print(pd.DataFrame(P2))\n",
    "print(\" \")\n",
    "\n",
    "#Payoffs for player 3\n",
    "P3=np.array(([0, 0, 1], [0, 2, 1], [1, 1, 2]))\n",
    "print(pd.DataFrame(P3))\n",
    "\n",
    "##We find the Nash equilibria for this proper subgame\n",
    "L1=[]\n",
    "L2=[]\n",
    "\n",
    "for i in range(len(P2)):\n",
    "    a=P2[:, i]\n",
    "    M=max(a)\n",
    "    for j in range(len(a)):\n",
    "        if a[j]==M: L1+=[[j, i], ]\n",
    "\n",
    "for i in range(len(P3)):\n",
    "    a=P3[i, :]\n",
    "    M=max(a)\n",
    "    for j in range(len(a)):\n",
    "        if a[j]==M: L2+=[[i, j], ]\n",
    "\n",
    "N=[i for i in L1 if i in L2]\n",
    "\n",
    "I2={0:'C', 1:'D', 2:'E'}\n",
    "I3={0:'F', 1:'G', 2:'H'}\n",
    "\n",
    "Nash1=[(I2[i], I3[j]) for [i, j] in N]\n",
    "## The Nash equilibria\n",
    "print(Nash1)\n",
    "\n",
    "## Now we consider the subgame that starts at decision node of player 2 after following choice B of Player 1\n",
    "#Payoffs for player 2 \n",
    "P2=np.array(([2, 1], [0, 1]))\n",
    "print(pd.DataFrame(P2))\n",
    "print(\" \")\n",
    "\n",
    "#Payoffs for player 3\n",
    "P3=np.array(([1, 0], [0, 1]))\n",
    "print(pd.DataFrame(P3))\n",
    "\n",
    "##We find the Nash equilibria for this proper subgame\n",
    "L1=[]\n",
    "L2=[]\n",
    "\n",
    "for i in range(len(P2)):\n",
    "    a=P2[:, i]\n",
    "    M=max(a)\n",
    "    for j in range(len(a)):\n",
    "        if a[j]==M: L1+=[[j, i], ]\n",
    "\n",
    "for i in range(len(P3)):\n",
    "    a=P3[i, :]\n",
    "    M=max(a)\n",
    "    for j in range(len(a)):\n",
    "        if a[j]==M: L2+=[[i, j], ]\n",
    "\n",
    "N=[i for i in L1 if i in L2]\n",
    "\n",
    "I2={0:'L', 1:'M'}\n",
    "I3={0:'P', 1:'R'}\n",
    "\n",
    "Nash2=[(I2[i], I3[j]) for [i, j] in N]\n",
    "## The Nash equilibria\n",
    "print(Nash2)\n",
    "\n",
    "## There are two subgame perfect equilibria\n",
    "[['A', (Nash1[0][0], Nash2[0][0]), (Nash1[0][1], Nash2[0][1])], ['B', (Nash1[0][0], Nash2[1][0]), (Nash1[0][1], Nash2[1][1])]]"
   ]
  },
  {
   "cell_type": "markdown",
   "metadata": {},
   "source": [
    "#### Expected Utility Theory"
   ]
  },
  {
   "cell_type": "markdown",
   "metadata": {},
   "source": [
    "##### Program to evaluate a simple lottery corresponding to a given compound lottery C"
   ]
  },
  {
   "cell_type": "code",
   "execution_count": 75,
   "metadata": {},
   "outputs": [
    {
     "name": "stdout",
     "output_type": "stream",
     "text": [
      "[[0.4, 0.1, 0.3, 0.2], [0, 1, 0, 0], [0.2, 0, 0.2, 0.6], [0, 0.3333333333333333, 0.6666666666666666, 0]]\n",
      "[0.125, 0.25, 0.125, 0.5]\n"
     ]
    },
    {
     "data": {
      "text/plain": [
       "[0.07500000000000001, 0.4291666666666667, 0.3958333333333333, 0.1]"
      ]
     },
     "execution_count": 75,
     "metadata": {},
     "output_type": "execute_result"
    }
   ],
   "source": [
    "#C=[[[1/3, 1/6, 1/3, 1/6], 1/2], [[1, 0, 0, 0], 1/4], [[1/5, 0, 1/5, 3/5], 1/4]]\n",
    "\n",
    "#Exercise 5.12\n",
    "C=[[[2/5, 1/10, 3/10, 1/5], 1/8], [[0, 1, 0, 0], 1/4], [[1/5, 0, 1/5, 3/5], 1/8], [[0, 1/3, 2/3, 0], 1/2]]\n",
    "\n",
    "def simpLottery(C):\n",
    "    r=len(C)\n",
    "    m=len(C[0][0])\n",
    "    x=[]\n",
    "    P=[]\n",
    "    \n",
    "    for i in range(r):\n",
    "        x+=[C[i][0], ]\n",
    "        P+=[C[i][1], ]\n",
    "    print(x)\n",
    "    print(P)\n",
    "    L=[]\n",
    "    \n",
    "    for i in range(m):\n",
    "        q=0\n",
    "        for j in range(r): q+=P[j]*x[j][i]\n",
    "        L+=[q, ]\n",
    "    \n",
    "    return L\n",
    "\n",
    "simpLottery(C)"
   ]
  }
 ],
 "metadata": {
  "kernelspec": {
   "display_name": "Python 3",
   "language": "python",
   "name": "python3"
  },
  "language_info": {
   "codemirror_mode": {
    "name": "ipython",
    "version": 3
   },
   "file_extension": ".py",
   "mimetype": "text/x-python",
   "name": "python",
   "nbconvert_exporter": "python",
   "pygments_lexer": "ipython3",
   "version": "3.6.5"
  }
 },
 "nbformat": 4,
 "nbformat_minor": 2
}
